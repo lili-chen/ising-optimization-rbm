{
 "cells": [
  {
   "cell_type": "code",
   "execution_count": 1,
   "metadata": {
    "collapsed": true
   },
   "outputs": [],
   "source": [
    "# --- IMPORTS\n",
    "\n",
    "import numpy as np\n",
    "import random\n",
    "import matplotlib.pyplot as plt\n",
    "import os\n",
    "import time\n",
    "\n",
    "import cProfile\n",
    "\n",
    "start_time = time.time()\n",
    "random.seed(42) \n",
    "np.random.seed(42)"
   ]
  },
  {
   "cell_type": "code",
   "execution_count": 2,
   "metadata": {
    "collapsed": true
   },
   "outputs": [],
   "source": [
    "# --- CLASSES\n",
    "\n",
    "class Gibbs:\n",
    "    def __init__(self, size):\n",
    "        self.size = size\n",
    "        self.base_lambda = 1/size\n",
    "    \n",
    "    def get_distribution(self, num_trials, W, b):\n",
    "        pass\n",
    "    \n",
    "    def plot_distribution(self, num_trials, W, b):\n",
    "        plt.bar(np.arange(0, 2**self.size), self.get_distribution(num_trials, W, b))\n",
    "        plt.show()\n",
    "        \n",
    "    def state_to_int(self, s):\n",
    "        binary = [0 if i == -1 else 1 for i in s]\n",
    "        result = 0\n",
    "        power_of_two = 1\n",
    "        for bit in reversed(binary):\n",
    "            result += power_of_two * bit\n",
    "            power_of_two *= 2\n",
    "        return result\n",
    "    \n",
    "class Discrete_Gibbs(Gibbs):\n",
    "    def get_distribution(self, num_trials, W, b):\n",
    "        s = [random.choice([-1, 1]) for i in range(self.size)]\n",
    "        result = np.zeros(2**self.size)\n",
    "        for k in range(num_trials):\n",
    "            for i in range(self.size):\n",
    "                summation = np.dot(W[i], s)\n",
    "                s[i] = np.sign(np.tanh(summation + b[i]) + random.uniform(-1, 1))\n",
    "                result[self.state_to_int(s)] += 1\n",
    "        return result\n",
    "    \n",
    "class Continuous_Gibbs(Gibbs):\n",
    "    def get_distribution(self, num_trials, W, b):\n",
    "        s = [random.choice([-1, 1]) for i in range(self.size)]\n",
    "        result = dict()\n",
    "        lambdas = [self.base_lambda] * self.size\n",
    "        for k in range(num_trials):\n",
    "            # competing exponentials\n",
    "            times = [-np.log(1-np.random.uniform(0,1))/lambdas[i] for i in range(self.size)]\n",
    "\n",
    "            # update the s[i] of the exponential that hit first\n",
    "            argmin_time = np.argmin(times)\n",
    "            if self.state_to_int(s) not in result:\n",
    "                result[self.state_to_int(s)] = 0\n",
    "            result[self.state_to_int(s)] += times[argmin_time]\n",
    "            s[argmin_time] = -s[argmin_time]\n",
    "\n",
    "            # update summation, sigmoid, and lambdas\n",
    "            sigmoids = np.multiply(np.add(np.tanh(np.add(np.matmul(s, W), b)), 1), 0.5)\n",
    "            lambdas = [(1-sigmoids[i])*self.base_lambda if s[i] == 1 else sigmoids[i]*self.base_lambda for i in range(self.size)]\n",
    "        return result\n",
    "    \n",
    "class Max_Cut_Approximator(Continuous_Gibbs):\n",
    "    def get_cut_sizes(self, num_trials, W, b, step_size):\n",
    "        s = [random.choice([-1, 1]) for i in range(self.size)]\n",
    "        result = dict()\n",
    "        lambdas = [self.base_lambda] * self.size\n",
    "        \n",
    "        cuts = []\n",
    "        for k in range(num_trials):\n",
    "            # competing exponentials\n",
    "            times = [-np.log(1-np.random.uniform(0,1))/lambdas[i] for i in range(self.size)]\n",
    "\n",
    "            # update the s[i] of the exponential that hit first\n",
    "            argmin_time = np.argmin(times)\n",
    "            if self.state_to_int(s) not in result:\n",
    "                result[self.state_to_int(s)] = 0\n",
    "            result[self.state_to_int(s)] += times[argmin_time]\n",
    "            s[argmin_time] = -s[argmin_time]\n",
    "\n",
    "            # update summation, sigmoid, and lambdas\n",
    "            sigmoids = np.multiply(np.add(np.tanh(np.add(np.matmul(s, W), b)), 1), 0.5)\n",
    "            lambdas = [(1-sigmoids[i])*self.base_lambda if s[i] == 1 else sigmoids[i]*self.base_lambda for i in range(self.size)]\n",
    "            \n",
    "            if k % step_size == 0:\n",
    "                best_state = max(result, key=result.get)\n",
    "                binary = [-1 if i == 0 else 1 for i in list(map(int, bin(best_state)[2:]))]\n",
    "                with_zeros = [-1] * (self.size - len(binary)) + binary\n",
    "                cuts += [(k, self.cut_size(W, with_zeros))]\n",
    "        \n",
    "        return cuts\n",
    "    \n",
    "\n",
    "    def cut_size(self, W, joint_state):\n",
    "        num_vertices = len(W)\n",
    "        \n",
    "        # calculate cut\n",
    "        cut = 0\n",
    "        for i in range(num_vertices):\n",
    "            outgoing_edges = W[i]\n",
    "            for j in range(len(outgoing_edges)):\n",
    "                if outgoing_edges[j] != 0: # edge exists between vertex i and vertex j\n",
    "                    if joint_state[i] != joint_state[j]: # on different sides of the cut\n",
    "                        cut += 1\n",
    "        return cut"
   ]
  },
  {
   "cell_type": "code",
   "execution_count": 3,
   "metadata": {
    "collapsed": true
   },
   "outputs": [],
   "source": [
    "# FUNCTIONS\n",
    "\n",
    "def max_cut(file_name, num_repetitions, num_trials):\n",
    "    file1 = open(file_name,\"r\") \n",
    "    arr = file1.readline()[:-1].split(\"\\t\") # first line\n",
    "    num_vertices = int(arr[0])\n",
    "\n",
    "    W = np.zeros((num_vertices, num_vertices))\n",
    "\n",
    "    for line in file1:\n",
    "        arr = line[:-1].split(\"\\t\")\n",
    "        ind1 = int(arr[0])\n",
    "        ind2 = int(arr[1])\n",
    "        ind3 = int(arr[2])\n",
    "        W[ind1-1][ind2-1] = ind3\n",
    "    \n",
    "    cg = Max_Cut_Approximator(num_vertices)\n",
    "    b = np.zeros(num_vertices)\n",
    "\n",
    "    result = []\n",
    "    for _ in range(num_repetitions):\n",
    "        dist = cg.get_distribution(num_trials, -0.5*W, b)\n",
    "        best_state = np.argmax(dist)\n",
    "        binary = [-1 if i == 0 else 1 for i in list(map(int, bin(best_state)[2:]))]\n",
    "        with_zeros = [-1] * (num_vertices - len(binary)) + binary\n",
    "        # calculate Hamiltonian\n",
    "        H = 0\n",
    "        for i in range(num_vertices):\n",
    "            for j in range(num_vertices):\n",
    "                H -= 2 * -W[i][j] * with_zeros[i] * with_zeros[j] # J = -W[i][j]\n",
    "\n",
    "        cut = cg.cut_size(W, with_zeros)\n",
    "\n",
    "        result += [(best_state, H, cut)]\n",
    "    return result\n",
    "    \n",
    "def plot_max_cut_efficiency(file_name, num_trials, step_size):\n",
    "    file1 = open(file_name,\"r\") \n",
    "    arr = file1.readline()[:-1].split(\"\\t\") # first line\n",
    "    num_vertices = int(arr[0])\n",
    "\n",
    "    W = np.zeros((num_vertices, num_vertices))\n",
    "\n",
    "    for line in file1:\n",
    "        arr = line[:-1].split(\"\\t\")\n",
    "        ind1 = int(arr[0])\n",
    "        ind2 = int(arr[1])\n",
    "        ind3 = int(arr[2])\n",
    "        W[ind1-1][ind2-1] = ind3\n",
    "\n",
    "    cg = Max_Cut_Approximator(num_vertices)\n",
    "    b = np.zeros(num_vertices)\n",
    "    \n",
    "    cuts = np.array(cg.get_cut_sizes(num_trials, -0.5*W, b, step_size))\n",
    "    cuts = cuts.reshape(len(cuts), 2).T\n",
    "    plt.plot(cuts[0], cuts[1])\n",
    "    plt.show()\n",
    "\n",
    "def calculate_distribution(file_name):\n",
    "    file1 = open(file_name,\"r\") \n",
    "    arr = file1.readline()[:-1].split(\"\\t\") # first line\n",
    "    num_vertices = int(arr[0])\n",
    "\n",
    "    W = np.zeros((num_vertices, num_vertices))\n",
    "\n",
    "    for line in file1:\n",
    "        arr = line[:-1].split(\"\\t\")\n",
    "        ind1 = int(arr[0])\n",
    "        ind2 = int(arr[1])\n",
    "        ind3 = int(arr[2])\n",
    "        W[ind1-1][ind2-1] = ind3\n",
    "    \n",
    "    result = []\n",
    "    for i in range(2**num_vertices):\n",
    "        binary = [-1 if i == 0 else 1 for i in list(map(int, bin(i)[2:]))]\n",
    "        with_zeros = [-1] * (num_vertices - len(binary)) + binary\n",
    "        numerator = np.exp(np.dot(np.dot(with_zeros, W),with_zeros).T)\n",
    "        result += [numerator]\n",
    "    denominator = sum(result)\n",
    "    return result/denominator\n",
    "        "
   ]
  },
  {
   "cell_type": "code",
   "execution_count": 37,
   "metadata": {
    "collapsed": true
   },
   "outputs": [],
   "source": [
    "# RUNTIME"
   ]
  },
  {
   "cell_type": "code",
   "execution_count": null,
   "metadata": {
    "collapsed": true
   },
   "outputs": [],
   "source": []
  },
  {
   "cell_type": "code",
   "execution_count": null,
   "metadata": {},
   "outputs": [],
   "source": [
    "max_cut(\"N010-id00.txt\", 10, 100000)"
   ]
  },
  {
   "cell_type": "code",
   "execution_count": null,
   "metadata": {
    "collapsed": true
   },
   "outputs": [],
   "source": [
    "max_cut(\"N010-id01.txt\", 10, 100000)"
   ]
  },
  {
   "cell_type": "code",
   "execution_count": null,
   "metadata": {
    "collapsed": true
   },
   "outputs": [],
   "source": [
    "max_cut(\"N010-id02.txt\", 10, 100000)"
   ]
  },
  {
   "cell_type": "code",
   "execution_count": 4,
   "metadata": {},
   "outputs": [
    {
     "data": {
      "image/png": "[encoded data removed]",
      "text/plain": [
       "<matplotlib.figure.Figure at 0x1107b5940>"
      ]
     },
     "metadata": {},
     "output_type": "display_data"
    }
   ],
   "source": [
    "plot_max_cut_efficiency(\"maxcut/N010-id00.txt\", 10, 1)"
   ]
  },
  {
   "cell_type": "code",
   "execution_count": 5,
   "metadata": {},
   "outputs": [
    {
     "data": {
      "image/png": "[encoded data removed]",
      "text/plain": [
       "<matplotlib.figure.Figure at 0x1108c4e10>"
      ]
     },
     "metadata": {},
     "output_type": "display_data"
    }
   ],
   "source": [
    "plot_max_cut_efficiency(\"maxcut/N020-id00.txt\", 1000, 10)"
   ]
  },
  {
   "cell_type": "code",
   "execution_count": 6,
   "metadata": {},
   "outputs": [
    {
     "data": {
      "image/png": "[encoded data removed]",
      "text/plain": [
       "<matplotlib.figure.Figure at 0x1109a0080>"
      ]
     },
     "metadata": {},
     "output_type": "display_data"
    }
   ],
   "source": [
    "plot_max_cut_efficiency(\"maxcut/N030-id00.txt\", 100000, 1000)"
   ]
  },
  {
   "cell_type": "code",
   "execution_count": 7,
   "metadata": {},
   "outputs": [
    {
     "data": {
      "image/png": "[encoded data removed]",
      "text/plain": [
       "<matplotlib.figure.Figure at 0x110980518>"
      ]
     },
     "metadata": {},
     "output_type": "display_data"
    }
   ],
   "source": [
    "plot_max_cut_efficiency(\"maxcut/N040-id00.txt\", 100000, 1000)"
   ]
  },
  {
   "cell_type": "code",
   "execution_count": 8,
   "metadata": {},
   "outputs": [
    {
     "data": {
      "image/png": "[encoded data removed]",
      "text/plain": [
       "<matplotlib.figure.Figure at 0x1109a0748>"
      ]
     },
     "metadata": {},
     "output_type": "display_data"
    }
   ],
   "source": [
    "plot_max_cut_efficiency(\"maxcut/N050-id00.txt\", 100000, 1000)"
   ]
  },
  {
   "cell_type": "code",
   "execution_count": 9,
   "metadata": {},
   "outputs": [
    {
     "data": {
      "image/png": "[encoded data removed]",
      "text/plain": [
       "<matplotlib.figure.Figure at 0x10924bd30>"
      ]
     },
     "metadata": {},
     "output_type": "display_data"
    }
   ],
   "source": [
    "plot_max_cut_efficiency(\"maxcut/N060-id00.txt\", 100000, 1000)"
   ]
  },
  {
   "cell_type": "code",
   "execution_count": 10,
   "metadata": {},
   "outputs": [
    {
     "data": {
      "image/png": "[encoded data removed]",
      "text/plain": [
       "<matplotlib.figure.Figure at 0x112b9e940>"
      ]
     },
     "metadata": {},
     "output_type": "display_data"
    }
   ],
   "source": [
    "plot_max_cut_efficiency(\"maxcut/N070-id00.txt\", 100000, 1000)"
   ]
  },
  {
   "cell_type": "code",
   "execution_count": 11,
   "metadata": {},
   "outputs": [
    {
     "data": {
      "image/png": "[encoded data removed]",
      "text/plain": [
       "<matplotlib.figure.Figure at 0x110953a20>"
      ]
     },
     "metadata": {},
     "output_type": "display_data"
    }
   ],
   "source": [
    "plot_max_cut_efficiency(\"maxcut/N080-id00.txt\", 100000, 1000)"
   ]
  },
  {
   "cell_type": "code",
   "execution_count": null,
   "metadata": {
    "collapsed": true
   },
   "outputs": [],
   "source": [
    "plot_max_cut_efficiency(\"maxcut/N090-id00.txt\", 100000, 1000)"
   ]
  },
  {
   "cell_type": "code",
   "execution_count": null,
   "metadata": {
    "collapsed": true
   },
   "outputs": [],
   "source": []
  }
 ],
 "metadata": {
  "kernelspec": {
   "display_name": "Python 3",
   "language": "python",
   "name": "python3"
  },
  "language_info": {
   "codemirror_mode": {
    "name": "ipython",
    "version": 3
   },
   "file_extension": ".py",
   "mimetype": "text/x-python",
   "name": "python",
   "nbconvert_exporter": "python",
   "pygments_lexer": "ipython3",
   "version": "3.6.3"
  }
 },
 "nbformat": 4,
 "nbformat_minor": 2
}
