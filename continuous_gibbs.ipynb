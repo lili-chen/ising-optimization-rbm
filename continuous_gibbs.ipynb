{
 "cells": [
  {
   "cell_type": "code",
   "execution_count": 7,
   "metadata": {
    "collapsed": true
   },
   "outputs": [],
   "source": [
    "# --- IMPORTS\n",
    "\n",
    "import numpy as np\n",
    "import random\n",
    "import matplotlib.pyplot as plt\n",
    "import time"
   ]
  },
  {
   "cell_type": "code",
   "execution_count": 8,
   "metadata": {
    "collapsed": true
   },
   "outputs": [],
   "source": [
    "# --- CONSTANTS\n",
    "\n",
    "NUM_TRIALS = 10000"
   ]
  },
  {
   "cell_type": "code",
   "execution_count": 9,
   "metadata": {
    "collapsed": true
   },
   "outputs": [],
   "source": [
    "# --- CLASSES"
   ]
  },
  {
   "cell_type": "code",
   "execution_count": 10,
   "metadata": {
    "collapsed": true
   },
   "outputs": [],
   "source": [
    "# --- FUNCTIONS"
   ]
  },
  {
   "cell_type": "code",
   "execution_count": 14,
   "metadata": {},
   "outputs": [
    {
     "data": {
      "image/png": "[encoded data removed]",
      "text/plain": [
       "<matplotlib.figure.Figure at 0x11b8cc470>"
      ]
     },
     "metadata": {},
     "output_type": "display_data"
    },
    {
     "name": "stdout",
     "output_type": "stream",
     "text": [
      "Time:  0.5338108539581299\n"
     ]
    }
   ],
   "source": [
    "# --- RUNTIME\n",
    "\n",
    "start = time.time()\n",
    "\n",
    "w_12 = -1\n",
    "w_13 = 2\n",
    "w_21 = -1\n",
    "w_23 = 2\n",
    "w_31 = 2\n",
    "w_32 = 2\n",
    "b_1 = 1\n",
    "b_2 = 1\n",
    "b_3 = -2\n",
    "\n",
    "W = np.array([[0, w_12, w_13], [w_21, 0, w_23], [w_31, w_32, 0]])\n",
    "b = np.array([b_1, b_2, b_3])\n",
    "s = [random.choice([-1, 1]) for i in range(3)]\n",
    "\n",
    "base_lambda = 1/3\n",
    "\n",
    "result = np.zeros(8)\n",
    "\n",
    "lambdas = [base_lambda, base_lambda, base_lambda]\n",
    "\n",
    "for k in range(NUM_TRIALS):\n",
    "        \n",
    "    # competing exponentials\n",
    "    cdf1 = np.random.uniform(0,1)\n",
    "    t1 = -np.log(1-cdf1)/lambdas[0]\n",
    "    cdf2 = np.random.uniform(0,1)\n",
    "    t2 = -np.log(1-cdf2)/lambdas[1]\n",
    "    cdf3 = np.random.uniform(0,1)\n",
    "    t3 = -np.log(1-cdf3)/lambdas[2]\n",
    "    \n",
    "    # update the s[i] of the exponential that hit first\n",
    "    if min(t1, min(t2, t3)) == t1:\n",
    "        binary = [0 if i == -1 else 1 for i in s]\n",
    "        result[4 * binary[0] + 2 * binary[1] + 1 * binary[2]] += t1\n",
    "        s[0] = -s[0]\n",
    "    elif min(t1, min(t2, t3)) == t2:\n",
    "        binary = [0 if i == -1 else 1 for i in s]\n",
    "        result[4 * binary[0] + 2 * binary[1] + 1 * binary[2]] += t2\n",
    "        s[1] = -s[1]\n",
    "    else:\n",
    "        binary = [0 if i == -1 else 1 for i in s]\n",
    "        result[4 * binary[0] + 2 * binary[1] + 1 * binary[2]] += t3\n",
    "        s[2] = -s[2]\n",
    "\n",
    "    # update summation, sigmoid, and lambdas\n",
    "    for i in range(3):\n",
    "        # summation = 0\n",
    "        # for j in range(3):\n",
    "        #     summation = summation + W[i][j] * s[j]\n",
    "        summation = np.dot(W[i], s)\n",
    "        sigmoid = (np.tanh(summation + b[i]) + 1) * 0.5\n",
    "        if s[i] == 1:\n",
    "            lambdas[i] = (1-sigmoid)*base_lambda\n",
    "        else:\n",
    "            lambdas[i] = sigmoid*base_lambda\n",
    "    # print(lambdas)\n",
    "    \n",
    "plt.bar(np.arange(0, 8), result)\n",
    "plt.show()\n",
    "\n",
    "end = time.time()\n",
    "time_taken = end - start\n",
    "print('Time: ',time_taken)"
   ]
  },
  {
   "cell_type": "code",
   "execution_count": 12,
   "metadata": {},
   "outputs": [
    {
     "data": {
      "image/png": "[encoded data removed]",
      "text/plain": [
       "<matplotlib.figure.Figure at 0x119678c88>"
      ]
     },
     "metadata": {},
     "output_type": "display_data"
    }
   ],
   "source": [
    "# W = np.array([[0, w_12, w_13], [w_21, 0, w_23], [w_31, w_32, 0]])\n",
    "# b = np.array([b_1, b_2, b_3])\n",
    "\n",
    "W = np.array([[0, 1], [1, 0]])\n",
    "b = np.array([0, 0])\n",
    "s = [random.choice([-1, 1]) for i in range(2)]\n",
    "\n",
    "base_lambda = 1/2\n",
    "\n",
    "result = np.zeros(4)\n",
    "\n",
    "lambdas = [base_lambda, base_lambda]\n",
    "\n",
    "for k in range(NUM_TRIALS):\n",
    "        \n",
    "    # competing exponentials\n",
    "    cdf1 = np.random.uniform(0,1)\n",
    "    t1 = -np.log(1-cdf1)/lambdas[0]\n",
    "    cdf2 = np.random.uniform(0,1)\n",
    "    t2 = -np.log(1-cdf2)/lambdas[1]\n",
    "    \n",
    "    # update the s[i] of the exponential that hit first\n",
    "    if min(t1, t2) == t1:\n",
    "        binary = [0 if i == -1 else 1 for i in s]\n",
    "        result[2 * binary[0] + 1 * binary[1]] += t1 \n",
    "        s[0] = -s[0]\n",
    "    else:\n",
    "        binary = [0 if i == -1 else 1 for i in s]\n",
    "        result[2 * binary[0] + 1 * binary[1]] += t2\n",
    "        s[1] = -s[1]\n",
    "\n",
    "    # update summation, sigmoid, and lambdas\n",
    "    for i in range(2):\n",
    "        summation = 0\n",
    "        for j in range(2):\n",
    "            summation = summation + W[i][j] * s[j]\n",
    "        sigmoid = (np.tanh(summation + b[i]) + 1) * 0.5\n",
    "        if s[i] == 1:\n",
    "            lambdas[i] = (1-sigmoid)*base_lambda\n",
    "        else:\n",
    "            lambdas[i] = sigmoid*base_lambda\n",
    "    \n",
    "plt.bar(np.arange(0, 4), result)\n",
    "plt.show()"
   ]
  },
  {
   "cell_type": "code",
   "execution_count": null,
   "metadata": {
    "collapsed": true
   },
   "outputs": [],
   "source": []
  }
 ],
 "metadata": {
  "kernelspec": {
   "display_name": "Python 3",
   "language": "python",
   "name": "python3"
  },
  "language_info": {
   "codemirror_mode": {
    "name": "ipython",
    "version": 3
   },
   "file_extension": ".py",
   "mimetype": "text/x-python",
   "name": "python",
   "nbconvert_exporter": "python",
   "pygments_lexer": "ipython3",
   "version": "3.6.3"
  }
 },
 "nbformat": 4,
 "nbformat_minor": 2
}
