{
 "cells": [
  {
   "cell_type": "code",
   "execution_count": 2,
   "metadata": {
    "collapsed": true
   },
   "outputs": [],
   "source": [
    "# --- IMPORTS\n",
    "\n",
    "import numpy as np\n",
    "import random\n",
    "import matplotlib.pyplot as plt"
   ]
  },
  {
   "cell_type": "code",
   "execution_count": 3,
   "metadata": {
    "collapsed": true
   },
   "outputs": [],
   "source": [
    "# --- CONSTANTS\n",
    "\n",
    "NUM_TRIALS = 5000"
   ]
  },
  {
   "cell_type": "code",
   "execution_count": 4,
   "metadata": {
    "collapsed": true
   },
   "outputs": [],
   "source": [
    "# --- CLASSES"
   ]
  },
  {
   "cell_type": "code",
   "execution_count": 5,
   "metadata": {
    "collapsed": true
   },
   "outputs": [],
   "source": [
    "# --- FUNCTIONS"
   ]
  },
  {
   "cell_type": "code",
   "execution_count": 19,
   "metadata": {},
   "outputs": [
    {
     "data": {
      "image/png": "[encoded data removed]",
      "text/plain": [
       "<matplotlib.figure.Figure at 0x110367278>"
      ]
     },
     "metadata": {},
     "output_type": "display_data"
    }
   ],
   "source": [
    "# --- RUNTIME\n",
    "\n",
    "w_12 = -1\n",
    "w_13 = 2\n",
    "w_21 = -1\n",
    "w_23 = 2\n",
    "w_31 = 2\n",
    "w_32 = 2\n",
    "b_1 = 1\n",
    "b_2 = 1\n",
    "b_3 = -2\n",
    "\n",
    "W = np.array([[0, w_12, w_13], [w_21, 0, w_23], [w_31, w_32, 0]])\n",
    "W = W\n",
    "b = np.array([b_1, b_2, b_3])\n",
    "s = [random.choice([-1, 1]) for i in range(3)]\n",
    "# s = [1, 1, 1]\n",
    "\n",
    "result = []\n",
    "\n",
    "for k in range(NUM_TRIALS):\n",
    "    for i in range(3):\n",
    "        summation = 0\n",
    "        for j in range(3):\n",
    "            summation = summation + W[i][j] * s[j]\n",
    "        \n",
    "        s[i] = np.sign(np.tanh(summation + b[i]) + random.uniform(-1, 1))\n",
    "        # print(s)\n",
    "        # print(np.tanh(summation + b[i] + random.uniform(-1, 1)))\n",
    "    binary = [0 if i == -1 else 1 for i in s]\n",
    "    result += [4 * binary[0] + 2 * binary[1] + 1 * binary[2]]\n",
    "    \n",
    "plt.hist(result)\n",
    "plt.show()"
   ]
  },
  {
   "cell_type": "code",
   "execution_count": null,
   "metadata": {
    "collapsed": true
   },
   "outputs": [],
   "source": []
  },
  {
   "cell_type": "code",
   "execution_count": null,
   "metadata": {
    "collapsed": true
   },
   "outputs": [],
   "source": []
  }
 ],
 "metadata": {
  "kernelspec": {
   "display_name": "Python 3",
   "language": "python",
   "name": "python3"
  },
  "language_info": {
   "codemirror_mode": {
    "name": "ipython",
    "version": 3
   },
   "file_extension": ".py",
   "mimetype": "text/x-python",
   "name": "python",
   "nbconvert_exporter": "python",
   "pygments_lexer": "ipython3",
   "version": "3.6.3"
  }
 },
 "nbformat": 4,
 "nbformat_minor": 2
}
