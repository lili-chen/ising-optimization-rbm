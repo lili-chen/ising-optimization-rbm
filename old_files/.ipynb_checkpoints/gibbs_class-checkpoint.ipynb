{
 "cells": [
  {
   "cell_type": "code",
   "execution_count": 25,
   "metadata": {
    "collapsed": true
   },
   "outputs": [],
   "source": [
    "# --- IMPORTS\n",
    "\n",
    "import numpy as np\n",
    "import random\n",
    "import matplotlib.pyplot as plt"
   ]
  },
  {
   "cell_type": "code",
   "execution_count": 26,
   "metadata": {
    "collapsed": true
   },
   "outputs": [],
   "source": [
    "# --- CLASSES\n",
    "\n",
    "class Gibbs:\n",
    "    def __init__(self, size):\n",
    "        self.size = size\n",
    "        self.base_lambda = 1/size\n",
    "    \n",
    "    def get_distribution(self, num_trials, W, b):\n",
    "        pass\n",
    "    \n",
    "    def plot_distribution(self, num_trials, W, b):\n",
    "        plt.bar(np.arange(0, 2**self.size), self.get_distribution(num_trials, W, b))\n",
    "        plt.show()\n",
    "        \n",
    "    def state_to_int(self, s):\n",
    "        binary = [0 if i == -1 else 1 for i in s]\n",
    "        result = 0\n",
    "        power_of_two = 1\n",
    "        for bit in reversed(binary):\n",
    "            result += power_of_two * bit\n",
    "            power_of_two *= 2\n",
    "        return result\n",
    "    \n",
    "class Discrete_Gibbs(Gibbs):\n",
    "    def get_distribution(self, num_trials, W, b):\n",
    "        s = [random.choice([-1, 1]) for i in range(self.size)]\n",
    "        result = np.zeros(2**self.size)\n",
    "        for k in range(num_trials):\n",
    "            for i in range(self.size):\n",
    "                summation = np.dot(W[i], s)\n",
    "                s[i] = np.sign(np.tanh(summation + b[i]) + random.uniform(-1, 1))\n",
    "            result[self.state_to_int(s)] += 1\n",
    "        return result\n",
    "    \n",
    "class Continuous_Gibbs(Gibbs):\n",
    "    def get_distribution(self, num_trials, W, b):\n",
    "        s = [random.choice([-1, 1]) for i in range(self.size)]\n",
    "        result = np.zeros(2**self.size)\n",
    "        lambdas = [self.base_lambda] * self.size\n",
    "        for k in range(num_trials):\n",
    "            # competing exponentials\n",
    "            times = [-np.log(1-np.random.uniform(0,1))/lambdas[i] for i in range(self.size)]\n",
    "\n",
    "            # update the s[i] of the exponential that hit first\n",
    "            argmin_time = np.argmin(times)\n",
    "            result[self.state_to_int(s)] += times[argmin_time]\n",
    "            s[argmin_time] = -s[argmin_time]\n",
    "\n",
    "            # update summation, sigmoid, and lambdas\n",
    "            sigmoids = np.multiply(np.add(np.tanh(np.add(np.matmul(s, W), b)), 1), 0.5)\n",
    "            lambdas = [(1-sigmoids[i])*self.base_lambda if s[i] == 1 else sigmoids[i]*self.base_lambda for i in range(self.size)]\n",
    "        return result\n",
    "    \n",
    "class Max_Cut_Approximator(Continuous_Gibbs):\n",
    "    def get_cut_sizes(self, num_trials, W, b):\n",
    "        s = [random.choice([-1, 1]) for i in range(self.size)]\n",
    "        result = np.zeros(2**self.size)\n",
    "        lambdas = [self.base_lambda] * self.size\n",
    "        \n",
    "        cuts = []\n",
    "        for k in range(num_trials):\n",
    "            # competing exponentials\n",
    "            times = [-np.log(1-np.random.uniform(0,1))/lambdas[i] for i in range(self.size)]\n",
    "\n",
    "            # update the s[i] of the exponential that hit first\n",
    "            argmin_time = np.argmin(times)\n",
    "            result[self.state_to_int(s)] += times[argmin_time]\n",
    "            s[argmin_time] = -s[argmin_time]\n",
    "\n",
    "            # update summation, sigmoid, and lambdas\n",
    "            sigmoids = np.multiply(np.add(np.tanh(np.add(np.matmul(s, W), b)), 1), 0.5)\n",
    "            lambdas = [(1-sigmoids[i])*self.base_lambda if s[i] == 1 else sigmoids[i]*self.base_lambda for i in range(self.size)]\n",
    "            \n",
    "            best_state = np.argmax(result)\n",
    "            binary = [-1 if i == 0 else 1 for i in list(map(int, bin(best_state)[2:]))]\n",
    "            with_zeros = [-1] * (self.size - len(binary)) + binary\n",
    "            cuts += [self.cut_size(W, with_zeros)]\n",
    "        \n",
    "        return cuts\n",
    "            \n",
    "    def cut_size(self, W, joint_state):\n",
    "        num_vertices = len(W)\n",
    "        cut = 0\n",
    "        for i in range(num_vertices):\n",
    "            outgoing_edges = W[i]\n",
    "            for j in range(len(outgoing_edges)):\n",
    "                if outgoing_edges[j] != 0: # edge exists between vertex i and vertex j\n",
    "                    if joint_state[i] != joint_state[j]: # on different sides of the cut\n",
    "                        cut += 1\n",
    "                        print(i, j, joint_state[i], joint_state[j])\n",
    "                        \n",
    "        return cut\n",
    "    \n",
    "    def hamiltonian(self, W, joint_state):\n",
    "        num_vertices = len(W)\n",
    "        H = 0\n",
    "        for i in range(num_vertices):\n",
    "            for j in range(num_vertices):\n",
    "                H -= 2 * -W[i][j] * joint_state[i] * joint_state[j] # J = -W[i][j]\n",
    "        return H"
   ]
  },
  {
   "cell_type": "code",
   "execution_count": 27,
   "metadata": {
    "collapsed": true
   },
   "outputs": [],
   "source": [
    "# FUNCTIONS\n",
    "\n",
    "def max_cut(file_name, num_repetitions, num_trials):\n",
    "    file1 = open(file_name,\"r\") \n",
    "    arr = file1.readline()[:-1].split(\"\\t\") # first line\n",
    "    num_vertices = int(arr[0])\n",
    "\n",
    "    W = np.zeros((num_vertices, num_vertices))\n",
    "\n",
    "    for line in file1:\n",
    "        arr = line[:-1].split(\"\\t\")\n",
    "        ind1 = int(arr[0])\n",
    "        ind2 = int(arr[1])\n",
    "        ind3 = int(arr[2])\n",
    "        W[ind1-1][ind2-1] = ind3\n",
    "\n",
    "    cg = Max_Cut_Approximator(num_vertices)\n",
    "    b = np.zeros(num_vertices)\n",
    "\n",
    "    result = []\n",
    "    for _ in range(num_repetitions):\n",
    "        dist = cg.get_distribution(num_trials, -3*W, b)\n",
    "        best_state = np.argmax(dist)\n",
    "        binary = [-1 if i == 0 else 1 for i in list(map(int, bin(best_state)[2:]))]\n",
    "        with_zeros = [-1] * (num_vertices - len(binary)) + binary\n",
    "        \n",
    "        H = cg.hamiltonian(W, with_zeros)\n",
    "        cut = cg.cut_size(W, with_zeros)\n",
    "\n",
    "        result += [(best_state, H, cut)]\n",
    "    return result\n",
    "    \n",
    "def plot_max_cut_efficiency(file_name, num_repetitions, num_trials):\n",
    "    file1 = open(file_name,\"r\") \n",
    "    arr = file1.readline()[:-1].split(\"\\t\") # first line\n",
    "    num_vertices = int(arr[0])\n",
    "\n",
    "    W = np.zeros((num_vertices, num_vertices))\n",
    "\n",
    "    for line in file1:\n",
    "        arr = line[:-1].split(\"\\t\")\n",
    "        ind1 = int(arr[0])\n",
    "        ind2 = int(arr[1])\n",
    "        ind3 = int(arr[2])\n",
    "        W[ind1-1][ind2-1] = ind3\n",
    "\n",
    "    cg = Max_Cut_Approximator(num_vertices)\n",
    "    b = np.zeros(num_vertices)\n",
    "    \n",
    "    all_cuts = np.zeros(num_trials)\n",
    "    for _ in range(num_repetitions):\n",
    "        cuts = cg.get_cut_sizes(num_trials, -3*W, b)\n",
    "        all_cuts = [all_cuts[i] + cuts[i] for i in range(num_trials)]\n",
    "    \n",
    "    all_cuts = [all_cuts[i] / num_repetitions for i in range(num_trials)]\n",
    "    plt.plot(all_cuts)\n",
    "    plt.show()\n",
    "    \n",
    "\n",
    "def calculate_distribution(file_name):\n",
    "    file1 = open(file_name,\"r\") \n",
    "    arr = file1.readline()[:-1].split(\"\\t\") # first line\n",
    "    num_vertices = int(arr[0])\n",
    "\n",
    "    W = np.zeros((num_vertices, num_vertices))\n",
    "\n",
    "    for line in file1:\n",
    "        arr = line[:-1].split(\"\\t\")\n",
    "        ind1 = int(arr[0])\n",
    "        ind2 = int(arr[1])\n",
    "        ind3 = int(arr[2])\n",
    "        W[ind1-1][ind2-1] = ind3\n",
    "    \n",
    "    result = []\n",
    "    for i in range(2**num_vertices):\n",
    "        binary = [-1 if i == 0 else 1 for i in list(map(int, bin(i)[2:]))]\n",
    "        with_zeros = [-1] * (num_vertices - len(binary)) + binary\n",
    "        numerator = np.exp(np.dot(np.dot(with_zeros, W),with_zeros).T)\n",
    "        result += [numerator]\n",
    "    denominator = sum(result)\n",
    "    return result/denominator\n",
    "        "
   ]
  },
  {
   "cell_type": "code",
   "execution_count": 28,
   "metadata": {},
   "outputs": [
    {
     "data": {
      "image/png": "[encoded data removed]",
      "text/plain": [
       "<matplotlib.figure.Figure at 0x115004f60>"
      ]
     },
     "metadata": {},
     "output_type": "display_data"
    }
   ],
   "source": [
    "# RUNTIME\n",
    "\n",
    "dg2 = Discrete_Gibbs(2)\n",
    "W = np.array([[0, 1], [1, 0]])\n",
    "b = np.array([0, 0])\n",
    "dg2.plot_distribution(100000, W, b)"
   ]
  },
  {
   "cell_type": "code",
   "execution_count": 14,
   "metadata": {},
   "outputs": [
    {
     "data": {
      "image/png": "[encoded data removed]",
      "text/plain": [
       "<matplotlib.figure.Figure at 0x112a8e2e8>"
      ]
     },
     "metadata": {},
     "output_type": "display_data"
    }
   ],
   "source": [
    "dg3 = Discrete_Gibbs(3)\n",
    "w_12 = -1\n",
    "w_13 = 2\n",
    "w_21 = -1\n",
    "w_23 = 2\n",
    "w_31 = 2\n",
    "w_32 = 2\n",
    "b_1 = 1\n",
    "b_2 = 1\n",
    "b_3 = -2\n",
    "\n",
    "W = np.array([[0, w_12, w_13], [w_21, 0, w_23], [w_31, w_32, 0]])\n",
    "b = np.array([b_1, b_2, b_3])\n",
    "\n",
    "dg3.plot_distribution(100000, W, b)"
   ]
  },
  {
   "cell_type": "code",
   "execution_count": 15,
   "metadata": {},
   "outputs": [
    {
     "data": {
      "image/png": "[encoded data removed]",
      "text/plain": [
       "<matplotlib.figure.Figure at 0x114dac160>"
      ]
     },
     "metadata": {},
     "output_type": "display_data"
    }
   ],
   "source": [
    "cg2 = Continuous_Gibbs(2)\n",
    "W = np.array([[0, 1], [1, 0]])\n",
    "b = np.array([0, 0])\n",
    "cg2.plot_distribution(100000, W, b)"
   ]
  },
  {
   "cell_type": "code",
   "execution_count": 9,
   "metadata": {},
   "outputs": [
    {
     "data": {
      "image/png": "[encoded data removed]",
      "text/plain": [
       "<matplotlib.figure.Figure at 0x112a5e6d8>"
      ]
     },
     "metadata": {},
     "output_type": "display_data"
    }
   ],
   "source": [
    "cg3 = Continuous_Gibbs(3)\n",
    "w_12 = -1\n",
    "w_13 = 2\n",
    "w_21 = -1\n",
    "w_23 = 2\n",
    "w_31 = 2\n",
    "w_32 = 2\n",
    "b_1 = 1\n",
    "b_2 = 1\n",
    "b_3 = -2\n",
    "\n",
    "W = np.array([[0, w_12, w_13], [w_21, 0, w_23], [w_31, w_32, 0]])\n",
    "b = np.array([b_1, b_2, b_3])\n",
    "\n",
    "cg3.plot_distribution(100000, W, b)"
   ]
  },
  {
   "cell_type": "code",
   "execution_count": null,
   "metadata": {
    "collapsed": true
   },
   "outputs": [],
   "source": []
  },
  {
   "cell_type": "code",
   "execution_count": null,
   "metadata": {
    "collapsed": true
   },
   "outputs": [],
   "source": []
  },
  {
   "cell_type": "code",
   "execution_count": 10,
   "metadata": {},
   "outputs": [
    {
     "data": {
      "text/plain": [
       "[(2, 3),\n",
       " (5, 3),\n",
       " (5, 3),\n",
       " (2, 3),\n",
       " (5, 3),\n",
       " (5, 3),\n",
       " (5, 3),\n",
       " (2, 3),\n",
       " (2, 3),\n",
       " (2, 3)]"
      ]
     },
     "execution_count": 10,
     "metadata": {},
     "output_type": "execute_result"
    }
   ],
   "source": [
    "# small graph test\n",
    "W = np.array([[0, 2, 0], \n",
    "              [0, 0, 1],\n",
    "              [0, 0, 0],\n",
    "             ])\n",
    "\n",
    "cg5 = Continuous_Gibbs(3)\n",
    "b = np.array([0, 0, 0])\n",
    "\n",
    "result = []\n",
    "for _ in range(10):\n",
    "    dist = cg5.get_distribution(100000, -W, b)\n",
    "    best_state = np.argmax(dist)\n",
    "    binary = [-1 if i == 0 else 1 for i in list(map(int, bin(best_state)[2:]))]\n",
    "    with_zeros = [-1] * (3 - len(binary)) + binary\n",
    "    H = 0\n",
    "    for i in range(3):\n",
    "        for j in range(3):\n",
    "            H -= W[i][j] * with_zeros[i] * with_zeros[j]\n",
    "    result += [(best_state, H)]\n",
    "result"
   ]
  },
  {
   "cell_type": "code",
   "execution_count": null,
   "metadata": {
    "collapsed": true
   },
   "outputs": [],
   "source": []
  },
  {
   "cell_type": "code",
   "execution_count": null,
   "metadata": {
    "collapsed": true
   },
   "outputs": [],
   "source": []
  },
  {
   "cell_type": "code",
   "execution_count": null,
   "metadata": {
    "collapsed": true
   },
   "outputs": [],
   "source": []
  },
  {
   "cell_type": "code",
   "execution_count": 23,
   "metadata": {},
   "outputs": [
    {
     "data": {
      "text/plain": [
       "[(473, -22.0, 17),\n",
       " (550, -22.0, 17),\n",
       " (550, -22.0, 17),\n",
       " (550, -22.0, 17),\n",
       " (550, -22.0, 17),\n",
       " (473, -22.0, 17),\n",
       " (473, -22.0, 17),\n",
       " (473, -22.0, 17),\n",
       " (473, -22.0, 17),\n",
       " (550, -22.0, 17)]"
      ]
     },
     "execution_count": 23,
     "metadata": {},
     "output_type": "execute_result"
    }
   ],
   "source": [
    "max_cut(\"N010-id00.txt\", 10, 100000)"
   ]
  },
  {
   "cell_type": "code",
   "execution_count": null,
   "metadata": {},
   "outputs": [
    {
     "data": {
      "text/plain": [
       "[(361, -18.0, 16),\n",
       " (662, -18.0, 16),\n",
       " (361, -18.0, 16),\n",
       " (662, -18.0, 16),\n",
       " (662, -18.0, 16),\n",
       " (663, -18.0, 16),\n",
       " (662, -18.0, 16),\n",
       " (662, -18.0, 16),\n",
       " (361, -18.0, 16),\n",
       " (361, -18.0, 16)]"
      ]
     },
     "execution_count": 76,
     "metadata": {},
     "output_type": "execute_result"
    }
   ],
   "source": [
    "max_cut(\"N010-id01.txt\", 10, 100000)"
   ]
  },
  {
   "cell_type": "code",
   "execution_count": 53,
   "metadata": {},
   "outputs": [
    {
     "data": {
      "text/plain": [
       "[(295, -18.0, 16),\n",
       " (728, -18.0, 16),\n",
       " (218, -22.0, 17),\n",
       " (728, -18.0, 16),\n",
       " (218, -22.0, 17),\n",
       " (218, -22.0, 17),\n",
       " (410, -18.0, 16),\n",
       " (410, -18.0, 16),\n",
       " (410, -18.0, 16),\n",
       " (805, -22.0, 17)]"
      ]
     },
     "execution_count": 53,
     "metadata": {},
     "output_type": "execute_result"
    }
   ],
   "source": [
    "max_cut(\"N010-id02.txt\", 10, 100000)"
   ]
  },
  {
   "cell_type": "code",
   "execution_count": 50,
   "metadata": {},
   "outputs": [
    {
     "data": {
      "image/png": "[encoded data removed]",
      "text/plain": [
       "<matplotlib.figure.Figure at 0x10f41fe80>"
      ]
     },
     "metadata": {},
     "output_type": "display_data"
    }
   ],
   "source": [
    "plot_max_cut_efficiency(\"N010-id00.txt\", 10, 5000)"
   ]
  },
  {
   "cell_type": "code",
   "execution_count": 51,
   "metadata": {},
   "outputs": [
    {
     "data": {
      "image/png": "[encoded data removed]",
      "text/plain": [
       "<matplotlib.figure.Figure at 0x10f45ea20>"
      ]
     },
     "metadata": {},
     "output_type": "display_data"
    }
   ],
   "source": [
    "plot_max_cut_efficiency(\"N010-id01.txt\", 10, 5000)"
   ]
  },
  {
   "cell_type": "code",
   "execution_count": 52,
   "metadata": {},
   "outputs": [
    {
     "data": {
      "image/png": "[encoded data removed]",
      "text/plain": [
       "<matplotlib.figure.Figure at 0x10f0b75c0>"
      ]
     },
     "metadata": {},
     "output_type": "display_data"
    }
   ],
   "source": [
    "plot_max_cut_efficiency(\"N010-id02.txt\", 10, 5000)"
   ]
  },
  {
   "cell_type": "code",
   "execution_count": null,
   "metadata": {
    "collapsed": true
   },
   "outputs": [],
   "source": []
  }
 ],
 "metadata": {
  "kernelspec": {
   "display_name": "Python 3",
   "language": "python",
   "name": "python3"
  },
  "language_info": {
   "codemirror_mode": {
    "name": "ipython",
    "version": 3
   },
   "file_extension": ".py",
   "mimetype": "text/x-python",
   "name": "python",
   "nbconvert_exporter": "python",
   "pygments_lexer": "ipython3",
   "version": "3.6.3"
  }
 },
 "nbformat": 4,
 "nbformat_minor": 2
}
