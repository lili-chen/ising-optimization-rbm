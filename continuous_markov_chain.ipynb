{
 "cells": [
  {
   "cell_type": "code",
   "execution_count": 2,
   "metadata": {
    "collapsed": true
   },
   "outputs": [],
   "source": [
    "import numpy as np"
   ]
  },
  {
   "cell_type": "code",
   "execution_count": 4,
   "metadata": {},
   "outputs": [
    {
     "name": "stdout",
     "output_type": "stream",
     "text": [
      "fraction of time spent in s1:  0.297223677210916\n",
      "fraction of time spent in s2:  0.702776322789084\n"
     ]
    }
   ],
   "source": [
    "def two_state_markov_chain(lambda1, lambda2, num_trials):\n",
    "    s1_time = 0\n",
    "    s2_time = 0\n",
    "    for _ in range(num_trials):\n",
    "        cdf1 = np.random.uniform(0,1)\n",
    "        t1 = -np.log(1-cdf1)/lambda1\n",
    "        s1_time += t1\n",
    "        cdf2 = np.random.uniform(0,1)\n",
    "        t2 = -np.log(1-cdf2)/lambda2\n",
    "        s2_time += t2\n",
    "    return(s1_time, s2_time)\n",
    "(s1_time, s2_time) = two_state_markov_chain(0.7, 0.3, 10000)\n",
    "print(\"fraction of time spent in s1: \", s1_time/(s1_time+s2_time))\n",
    "print(\"fraction of time spent in s2: \", s2_time/(s1_time+s2_time))"
   ]
  },
  {
   "cell_type": "code",
   "execution_count": null,
   "metadata": {
    "collapsed": true
   },
   "outputs": [],
   "source": []
  }
 ],
 "metadata": {
  "kernelspec": {
   "display_name": "Python 3",
   "language": "python",
   "name": "python3"
  },
  "language_info": {
   "codemirror_mode": {
    "name": "ipython",
    "version": 3
   },
   "file_extension": ".py",
   "mimetype": "text/x-python",
   "name": "python",
   "nbconvert_exporter": "python",
   "pygments_lexer": "ipython3",
   "version": "3.6.3"
  }
 },
 "nbformat": 4,
 "nbformat_minor": 2
}
